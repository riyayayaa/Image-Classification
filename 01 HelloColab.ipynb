{
 "cells": [
  {
   "cell_type": "markdown",
   "metadata": {
    "colab_type": "text",
    "id": "1cfbPqTDraGk"
   },
   "source": [
    "## Hello Colab!"
   ]
  },
  {
   "cell_type": "code",
   "execution_count": null,
   "metadata": {
    "colab": {
     "base_uri": "https://localhost:8080/",
     "height": 33
    },
    "colab_type": "code",
    "executionInfo": {
     "elapsed": 896,
     "status": "ok",
     "timestamp": 1589118399291,
     "user": {
      "displayName": "Ibrahim Sobh",
      "photoUrl": "https://lh3.googleusercontent.com/a-/AOh14GhSC4zQEnGifg47grxl7o87f8dALJa_6j0RvFnrug=s64",
      "userId": "02864663038268916670"
     },
     "user_tz": -120
    },
    "id": "7UUvN2lNq2bx",
    "outputId": "e957b85c-e200-4619-fb2e-1ce0a2474445"
   },
   "outputs": [],
   "source": [
    "print(\"hello world!\")"
   ]
  },
  {
   "cell_type": "code",
   "execution_count": null,
   "metadata": {
    "colab": {},
    "colab_type": "code",
    "id": "yx0CWOiRtx7j"
   },
   "outputs": [],
   "source": [
    "import numpy as np\n",
    "import matplotlib.pyplot as plt"
   ]
  },
  {
   "cell_type": "code",
   "execution_count": null,
   "metadata": {
    "colab": {
     "base_uri": "https://localhost:8080/",
     "height": 265
    },
    "colab_type": "code",
    "executionInfo": {
     "elapsed": 1661,
     "status": "ok",
     "timestamp": 1589118400187,
     "user": {
      "displayName": "Ibrahim Sobh",
      "photoUrl": "https://lh3.googleusercontent.com/a-/AOh14GhSC4zQEnGifg47grxl7o87f8dALJa_6j0RvFnrug=s64",
      "userId": "02864663038268916670"
     },
     "user_tz": -120
    },
    "id": "bOYbIdlbuK3s",
    "outputId": "7bc2794c-4c74-4ff6-c646-91d2c4238887"
   },
   "outputs": [],
   "source": [
    "x = np.arange(0, 4 * np.pi, 0.1)\n",
    "y1 = np.sin(x)\n",
    "y2 = np.cos(x)\n",
    "plt.plot(x, y1, label='sin')\n",
    "plt.plot(x, y2, label='cos')\n",
    "plt.legend()\n",
    "plt.show()"
   ]
  },
  {
   "cell_type": "code",
   "execution_count": null,
   "metadata": {
    "colab": {
     "base_uri": "https://localhost:8080/",
     "height": 265
    },
    "colab_type": "code",
    "executionInfo": {
     "elapsed": 1918,
     "status": "ok",
     "timestamp": 1589118400494,
     "user": {
      "displayName": "Ibrahim Sobh",
      "photoUrl": "https://lh3.googleusercontent.com/a-/AOh14GhSC4zQEnGifg47grxl7o87f8dALJa_6j0RvFnrug=s64",
      "userId": "02864663038268916670"
     },
     "user_tz": -120
    },
    "id": "nJv5MVnGuVST",
    "outputId": "e7480705-e896-44b7-f04f-57c3bb721a1e"
   },
   "outputs": [],
   "source": [
    "x = np.arange(0, 4 * np.pi, 0.1)\n",
    "y1 = np.sin(x)\n",
    "y2 = np.cos(x)\n",
    "\n",
    "plt.subplot(2, 1, 1)\n",
    "plt.plot(x, y1, label='sin')\n",
    "plt.legend()\n",
    "\n",
    "plt.subplot(2, 1, 2)\n",
    "plt.plot(x, y2, label='cos')\n",
    "plt.legend()\n",
    "\n",
    "plt.show()"
   ]
  },
  {
   "cell_type": "code",
   "execution_count": null,
   "metadata": {
    "colab": {},
    "colab_type": "code",
    "id": "_B6Ah1WOuVxp"
   },
   "outputs": [],
   "source": []
  },
  {
   "cell_type": "markdown",
   "metadata": {
    "colab_type": "text",
    "id": "Bv67a_kdregp"
   },
   "source": [
    "## Load image"
   ]
  },
  {
   "cell_type": "code",
   "execution_count": null,
   "metadata": {
    "colab": {},
    "colab_type": "code",
    "id": "igTranbOrBeO"
   },
   "outputs": [],
   "source": [
    "from PIL import Image"
   ]
  },
  {
   "cell_type": "code",
   "execution_count": null,
   "metadata": {
    "colab": {
     "base_uri": "https://localhost:8080/",
     "height": 33
    },
    "colab_type": "code",
    "executionInfo": {
     "elapsed": 3255,
     "status": "ok",
     "timestamp": 1589118401924,
     "user": {
      "displayName": "Ibrahim Sobh",
      "photoUrl": "https://lh3.googleusercontent.com/a-/AOh14GhSC4zQEnGifg47grxl7o87f8dALJa_6j0RvFnrug=s64",
      "userId": "02864663038268916670"
     },
     "user_tz": -120
    },
    "id": "EerQjqJeu7EJ",
    "outputId": "32e444be-89a6-4539-e032-c0abf37df102"
   },
   "outputs": [],
   "source": [
    "# download image \n",
    "!wget -nv https://user-images.githubusercontent.com/3080674/29361099-52eb370c-8286-11e7-8274-ceb4895fe0b9.png -O img01.png"
   ]
  },
  {
   "cell_type": "code",
   "execution_count": null,
   "metadata": {
    "colab": {
     "base_uri": "https://localhost:8080/",
     "height": 595
    },
    "colab_type": "code",
    "executionInfo": {
     "elapsed": 5624,
     "status": "ok",
     "timestamp": 1589118404345,
     "user": {
      "displayName": "Ibrahim Sobh",
      "photoUrl": "https://lh3.googleusercontent.com/a-/AOh14GhSC4zQEnGifg47grxl7o87f8dALJa_6j0RvFnrug=s64",
      "userId": "02864663038268916670"
     },
     "user_tz": -120
    },
    "id": "zn2lI2qLu7Bo",
    "outputId": "5eb1ce4f-eb69-4acc-9c87-4b61e52e1f50"
   },
   "outputs": [],
   "source": [
    "img = Image.open('./img01.png')\n",
    "plt.figure(figsize=(20,10))\n",
    "plt.imshow(img); \n",
    "plt.show()"
   ]
  },
  {
   "cell_type": "markdown",
   "metadata": {
    "colab_type": "text",
    "id": "xkWPnEtTsIvE"
   },
   "source": [
    "## TensorFlow and Torch"
   ]
  },
  {
   "cell_type": "code",
   "execution_count": null,
   "metadata": {
    "colab": {
     "base_uri": "https://localhost:8080/",
     "height": 33
    },
    "colab_type": "code",
    "executionInfo": {
     "elapsed": 5590,
     "status": "ok",
     "timestamp": 1589118404347,
     "user": {
      "displayName": "Ibrahim Sobh",
      "photoUrl": "https://lh3.googleusercontent.com/a-/AOh14GhSC4zQEnGifg47grxl7o87f8dALJa_6j0RvFnrug=s64",
      "userId": "02864663038268916670"
     },
     "user_tz": -120
    },
    "id": "28qd4Qs0rBm9",
    "outputId": "eb3c5557-7161-4ac9-fcac-037f753eb3fe"
   },
   "outputs": [],
   "source": [
    "import tensorflow as tf\n",
    "print(tf.__version__)"
   ]
  },
  {
   "cell_type": "code",
   "execution_count": null,
   "metadata": {
    "colab": {
     "base_uri": "https://localhost:8080/",
     "height": 33
    },
    "colab_type": "code",
    "executionInfo": {
     "elapsed": 5565,
     "status": "ok",
     "timestamp": 1589118404348,
     "user": {
      "displayName": "Ibrahim Sobh",
      "photoUrl": "https://lh3.googleusercontent.com/a-/AOh14GhSC4zQEnGifg47grxl7o87f8dALJa_6j0RvFnrug=s64",
      "userId": "02864663038268916670"
     },
     "user_tz": -120
    },
    "id": "Uv2uTXtRrBsr",
    "outputId": "1bf968b0-1448-4155-9f3f-877df31fbe89"
   },
   "outputs": [],
   "source": [
    "import torchvision as tv\n",
    "print(tv.__version__)"
   ]
  },
  {
   "cell_type": "code",
   "execution_count": null,
   "metadata": {
    "colab": {
     "base_uri": "https://localhost:8080/",
     "height": 33
    },
    "colab_type": "code",
    "executionInfo": {
     "elapsed": 5546,
     "status": "ok",
     "timestamp": 1589118404353,
     "user": {
      "displayName": "Ibrahim Sobh",
      "photoUrl": "https://lh3.googleusercontent.com/a-/AOh14GhSC4zQEnGifg47grxl7o87f8dALJa_6j0RvFnrug=s64",
      "userId": "02864663038268916670"
     },
     "user_tz": -120
    },
    "id": "Z_k7QMX2rBqJ",
    "outputId": "27a5f7d6-c456-4313-e802-18d1b5c6c468"
   },
   "outputs": [],
   "source": [
    "tf.test.gpu_device_name()"
   ]
  },
  {
   "cell_type": "code",
   "execution_count": null,
   "metadata": {
    "colab": {
     "base_uri": "https://localhost:8080/",
     "height": 915
    },
    "colab_type": "code",
    "executionInfo": {
     "elapsed": 7806,
     "status": "ok",
     "timestamp": 1589118406633,
     "user": {
      "displayName": "Ibrahim Sobh",
      "photoUrl": "https://lh3.googleusercontent.com/a-/AOh14GhSC4zQEnGifg47grxl7o87f8dALJa_6j0RvFnrug=s64",
      "userId": "02864663038268916670"
     },
     "user_tz": -120
    },
    "id": "WBspypivrBlE",
    "outputId": "361600ad-3309-43f3-fe77-7248ca2032ae"
   },
   "outputs": [],
   "source": [
    "!cat /proc/cpuinfo"
   ]
  },
  {
   "cell_type": "code",
   "execution_count": null,
   "metadata": {
    "colab": {
     "base_uri": "https://localhost:8080/",
     "height": 781
    },
    "colab_type": "code",
    "executionInfo": {
     "elapsed": 9737,
     "status": "ok",
     "timestamp": 1589118408585,
     "user": {
      "displayName": "Ibrahim Sobh",
      "photoUrl": "https://lh3.googleusercontent.com/a-/AOh14GhSC4zQEnGifg47grxl7o87f8dALJa_6j0RvFnrug=s64",
      "userId": "02864663038268916670"
     },
     "user_tz": -120
    },
    "id": "eQxzPxx8rBkK",
    "outputId": "9cf3adb8-e61d-49a6-a0a2-aa51f9eb0e25"
   },
   "outputs": [],
   "source": [
    "!cat /proc/meminfo"
   ]
  },
  {
   "cell_type": "code",
   "execution_count": null,
   "metadata": {
    "colab": {
     "base_uri": "https://localhost:8080/",
     "height": 277
    },
    "colab_type": "code",
    "executionInfo": {
     "elapsed": 11099,
     "status": "ok",
     "timestamp": 1589118409961,
     "user": {
      "displayName": "Ibrahim Sobh",
      "photoUrl": "https://lh3.googleusercontent.com/a-/AOh14GhSC4zQEnGifg47grxl7o87f8dALJa_6j0RvFnrug=s64",
      "userId": "02864663038268916670"
     },
     "user_tz": -120
    },
    "id": "e7ilfzFMrBc1",
    "outputId": "d49e7a90-f0a6-432d-86d6-8b941035fcf6"
   },
   "outputs": [],
   "source": [
    "!nvidia-smi"
   ]
  },
  {
   "cell_type": "markdown",
   "metadata": {
    "colab_type": "text",
    "id": "K6rHQACVsi9A"
   },
   "source": [
    "## Mount google drive\n",
    " - To save and load data\n",
    " - Take care: your code runs on virtual machine"
   ]
  },
  {
   "cell_type": "code",
   "execution_count": null,
   "metadata": {
    "colab": {},
    "colab_type": "code",
    "id": "qrIRCZ2SrBZT"
   },
   "outputs": [],
   "source": [
    "from google.colab import drive\n",
    "drive.mount('/content/gdrive')"
   ]
  },
  {
   "cell_type": "code",
   "execution_count": null,
   "metadata": {
    "colab": {},
    "colab_type": "code",
    "id": "SlWwwo5hsflr"
   },
   "outputs": [],
   "source": [
    "!ls -l"
   ]
  },
  {
   "cell_type": "code",
   "execution_count": null,
   "metadata": {
    "colab": {},
    "colab_type": "code",
    "id": "QWMv2KQlsfus"
   },
   "outputs": [],
   "source": [
    "%cd gdrive/My Drive\n",
    "!ls -l\n",
    "!pwd"
   ]
  }
 ],
 "metadata": {
  "accelerator": "GPU",
  "colab": {
   "authorship_tag": "ABX9TyNggFLpPy9zWK5slHwPTfnp",
   "collapsed_sections": [],
   "name": "01 HelloColab.ipynb",
   "provenance": [],
   "toc_visible": true
  },
  "kernelspec": {
   "display_name": "Python 3",
   "name": "python3"
  }
 },
 "nbformat": 4,
 "nbformat_minor": 0
}
