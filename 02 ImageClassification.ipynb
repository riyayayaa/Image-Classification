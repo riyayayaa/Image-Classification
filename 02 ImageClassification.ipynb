{
 "cells": [
  {
   "cell_type": "markdown",
   "metadata": {
    "colab_type": "text",
    "id": "mXBdgsB9EZzO"
   },
   "source": [
    "## In this code, we are going to implement a basic image classifier:\n",
    "  - Load the dataset (MNIST hand written digits)\n",
    "  - Design a deep learning model and inspect its learnable parameters \n",
    "  - Train the model on the training data and inspect learning curves \n",
    "  - Evaluate the trained model on the never seen testing data\n",
    "  - Save the model for later use\n",
    "  - Load and use the model\n"
   ]
  },
  {
   "cell_type": "code",
   "execution_count": null,
   "metadata": {
    "colab": {
     "base_uri": "https://localhost:8080/",
     "height": 33
    },
    "colab_type": "code",
    "executionInfo": {
     "elapsed": 2961,
     "status": "ok",
     "timestamp": 1589118052199,
     "user": {
      "displayName": "Ibrahim Sobh",
      "photoUrl": "https://lh3.googleusercontent.com/a-/AOh14GhSC4zQEnGifg47grxl7o87f8dALJa_6j0RvFnrug=s64",
      "userId": "02864663038268916670"
     },
     "user_tz": -120
    },
    "id": "vkyb1A0dy2WO",
    "outputId": "128d09bb-0c24-4160-cdaf-e9015f24f8ad"
   },
   "outputs": [],
   "source": [
    "import keras\n",
    "from keras.datasets import mnist\n",
    "from keras.models import Sequential\n",
    "from keras.layers import Dense, Dropout, Flatten\n",
    "from keras.layers import Conv2D, MaxPooling2D\n",
    "from keras.utils import plot_model\n",
    "from PIL import Image\n",
    "from keras import backend as K\n",
    "import matplotlib.pyplot as plt\n",
    "\n",
    "batch_size = 128\n",
    "num_classes = 10\n",
    "epochs = 10 #50\n",
    "\n",
    "# input image dimensions\n",
    "img_rows, img_cols = 28, 28"
   ]
  },
  {
   "cell_type": "markdown",
   "metadata": {
    "colab_type": "text",
    "id": "qmJH7ZmdzJP_"
   },
   "source": [
    "## Load the data\n",
    "\n",
    "![MNIST](https://upload.wikimedia.org/wikipedia/commons/2/27/MnistExamples.png)"
   ]
  },
  {
   "cell_type": "code",
   "execution_count": null,
   "metadata": {
    "colab": {
     "base_uri": "https://localhost:8080/",
     "height": 98
    },
    "colab_type": "code",
    "executionInfo": {
     "elapsed": 6190,
     "status": "ok",
     "timestamp": 1589118055474,
     "user": {
      "displayName": "Ibrahim Sobh",
      "photoUrl": "https://lh3.googleusercontent.com/a-/AOh14GhSC4zQEnGifg47grxl7o87f8dALJa_6j0RvFnrug=s64",
      "userId": "02864663038268916670"
     },
     "user_tz": -120
    },
    "id": "WNA4D3bGzFNw",
    "outputId": "ecc40144-7e06-4c64-d03b-abe267929062"
   },
   "outputs": [],
   "source": [
    "# load data, split into train and test sets\n",
    "(x_train, y_train), (x_test, y_test) = mnist.load_data()\n",
    "\n",
    "if K.image_data_format() == 'channels_first':\n",
    "    x_train = x_train.reshape(x_train.shape[0], 1, img_rows, img_cols)\n",
    "    x_test = x_test.reshape(x_test.shape[0], 1, img_rows, img_cols)\n",
    "    input_shape = (1, img_rows, img_cols)\n",
    "else:\n",
    "    x_train = x_train.reshape(x_train.shape[0], img_rows, img_cols, 1)\n",
    "    x_test = x_test.reshape(x_test.shape[0], img_rows, img_cols, 1)\n",
    "    input_shape = (img_rows, img_cols, 1)\n",
    "\n",
    "x_train = x_train.astype('float32')\n",
    "x_test = x_test.astype('float32')\n",
    "x_train /= 255\n",
    "x_test /= 255\n",
    "\n",
    "# small data\n",
    "data_size = 10000\n",
    "x_train = x_train[:data_size]\n",
    "y_train = y_train[:data_size]\n",
    "x_test = x_test[:data_size]\n",
    "y_test = y_test[:data_size]\n",
    "\n",
    "print('x_train shape:', x_train.shape)\n",
    "print(x_train.shape[0], 'train samples')\n",
    "print(x_test.shape[0], 'test samples')\n",
    "\n",
    "# convert class vectors to binary class matrices\n",
    "y_train = keras.utils.to_categorical(y_train, num_classes)\n",
    "y_test = keras.utils.to_categorical(y_test, num_classes)"
   ]
  },
  {
   "cell_type": "markdown",
   "metadata": {
    "colab_type": "text",
    "id": "cK0GY4LnzPw9"
   },
   "source": [
    "## Build the DNN model"
   ]
  },
  {
   "cell_type": "code",
   "execution_count": null,
   "metadata": {
    "colab": {
     "base_uri": "https://localhost:8080/",
     "height": 407
    },
    "colab_type": "code",
    "executionInfo": {
     "elapsed": 15779,
     "status": "ok",
     "timestamp": 1589118065077,
     "user": {
      "displayName": "Ibrahim Sobh",
      "photoUrl": "https://lh3.googleusercontent.com/a-/AOh14GhSC4zQEnGifg47grxl7o87f8dALJa_6j0RvFnrug=s64",
      "userId": "02864663038268916670"
     },
     "user_tz": -120
    },
    "id": "BLKNZQbDzFUj",
    "outputId": "2acf98a3-fd63-4306-e0e8-0b0b52f0a092"
   },
   "outputs": [],
   "source": [
    "model = Sequential()\n",
    "model.add(Conv2D(32, kernel_size=(3, 3),\n",
    "                 activation='relu',\n",
    "                 input_shape=input_shape))\n",
    "model.add(Conv2D(64, (3, 3), activation='relu'))\n",
    "model.add(MaxPooling2D(pool_size=(2, 2)))\n",
    "model.add(Dropout(0.25))\n",
    "model.add(Flatten())\n",
    "model.add(Dense(128, activation='relu'))\n",
    "model.add(Dropout(0.5))\n",
    "model.add(Dense(num_classes, activation='softmax'))\n",
    "\n",
    "model.compile(loss=keras.losses.categorical_crossentropy,\n",
    "              optimizer=keras.optimizers.Adadelta(),\n",
    "              metrics=['accuracy'])\n",
    "\n",
    "model.summary()"
   ]
  },
  {
   "cell_type": "code",
   "execution_count": null,
   "metadata": {
    "colab": {
     "base_uri": "https://localhost:8080/",
     "height": 976
    },
    "colab_type": "code",
    "executionInfo": {
     "elapsed": 15742,
     "status": "ok",
     "timestamp": 1589118065078,
     "user": {
      "displayName": "Ibrahim Sobh",
      "photoUrl": "https://lh3.googleusercontent.com/a-/AOh14GhSC4zQEnGifg47grxl7o87f8dALJa_6j0RvFnrug=s64",
      "userId": "02864663038268916670"
     },
     "user_tz": -120
    },
    "id": "g1IeKkzGzFYv",
    "outputId": "907368a5-040a-4b6b-8849-dc6898d640a4"
   },
   "outputs": [],
   "source": [
    "plot_model(model, to_file=\"mnistcnn.png\", show_shapes=True)\n",
    "img = Image.open('./mnistcnn.png')\n",
    "img"
   ]
  },
  {
   "cell_type": "markdown",
   "metadata": {
    "colab_type": "text",
    "id": "1ybIlM2azYXc"
   },
   "source": [
    "## Train the model"
   ]
  },
  {
   "cell_type": "code",
   "execution_count": null,
   "metadata": {
    "colab": {
     "base_uri": "https://localhost:8080/",
     "height": 358
    },
    "colab_type": "code",
    "executionInfo": {
     "elapsed": 32752,
     "status": "ok",
     "timestamp": 1589118082127,
     "user": {
      "displayName": "Ibrahim Sobh",
      "photoUrl": "https://lh3.googleusercontent.com/a-/AOh14GhSC4zQEnGifg47grxl7o87f8dALJa_6j0RvFnrug=s64",
      "userId": "02864663038268916670"
     },
     "user_tz": -120
    },
    "id": "_COnSQTLzFXW",
    "outputId": "7fbac21f-c693-4076-858a-caa2e7a89769"
   },
   "outputs": [],
   "source": [
    "history = model.fit(x_train, y_train,\n",
    "          batch_size=batch_size,\n",
    "          epochs=epochs,\n",
    "          verbose=1,\n",
    "          validation_data=(x_test, y_test))"
   ]
  },
  {
   "cell_type": "markdown",
   "metadata": {
    "colab_type": "text",
    "id": "jm8_vgVlznXb"
   },
   "source": [
    "## Evalaute the model"
   ]
  },
  {
   "cell_type": "code",
   "execution_count": null,
   "metadata": {
    "colab": {
     "base_uri": "https://localhost:8080/",
     "height": 50
    },
    "colab_type": "code",
    "executionInfo": {
     "elapsed": 32721,
     "status": "ok",
     "timestamp": 1589118082129,
     "user": {
      "displayName": "Ibrahim Sobh",
      "photoUrl": "https://lh3.googleusercontent.com/a-/AOh14GhSC4zQEnGifg47grxl7o87f8dALJa_6j0RvFnrug=s64",
      "userId": "02864663038268916670"
     },
     "user_tz": -120
    },
    "id": "FbEJCXNqzFS_",
    "outputId": "058ceef8-a4f4-494b-f7bb-b5d823da8212"
   },
   "outputs": [],
   "source": [
    "score = model.evaluate(x_test, y_test, verbose=0)\n",
    "print('Test loss:', score[0])\n",
    "print('Test accuracy:', score[1])"
   ]
  },
  {
   "cell_type": "code",
   "execution_count": null,
   "metadata": {
    "colab": {
     "base_uri": "https://localhost:8080/",
     "height": 473
    },
    "colab_type": "code",
    "executionInfo": {
     "elapsed": 33993,
     "status": "ok",
     "timestamp": 1589118083427,
     "user": {
      "displayName": "Ibrahim Sobh",
      "photoUrl": "https://lh3.googleusercontent.com/a-/AOh14GhSC4zQEnGifg47grxl7o87f8dALJa_6j0RvFnrug=s64",
      "userId": "02864663038268916670"
     },
     "user_tz": -120
    },
    "id": "t7sbPHT7zFQc",
    "outputId": "efb51c40-fb61-4588-fcc7-d668b5794f38"
   },
   "outputs": [],
   "source": [
    "plt.figure(figsize=(10, 7))\n",
    "plt.plot(history.history['loss'], label='Train')\n",
    "plt.plot(history.history['val_loss'], label='Test')\n",
    "\n",
    "\n",
    "plt.title('Learning curve')\n",
    "plt.ylabel('Loss')\n",
    "plt.xlabel('Epoch')\n",
    "\n",
    "plt.legend()"
   ]
  },
  {
   "cell_type": "markdown",
   "metadata": {
    "colab_type": "text",
    "id": "S7lcJA9Izwn-"
   },
   "source": [
    "## Save and load the trained model"
   ]
  },
  {
   "cell_type": "code",
   "execution_count": null,
   "metadata": {
    "colab": {},
    "colab_type": "code",
    "id": "gFRJ-nT1ztRs"
   },
   "outputs": [],
   "source": [
    "from keras.models import load_model\n",
    "# save the model\n",
    "model.save('my_model.h5')  # creates a HDF5 file 'my_model.h5'\n",
    "del model  # deletes the existing model"
   ]
  },
  {
   "cell_type": "code",
   "execution_count": null,
   "metadata": {
    "colab": {
     "base_uri": "https://localhost:8080/",
     "height": 82
    },
    "colab_type": "code",
    "executionInfo": {
     "elapsed": 38145,
     "status": "ok",
     "timestamp": 1589118087690,
     "user": {
      "displayName": "Ibrahim Sobh",
      "photoUrl": "https://lh3.googleusercontent.com/a-/AOh14GhSC4zQEnGifg47grxl7o87f8dALJa_6j0RvFnrug=s64",
      "userId": "02864663038268916670"
     },
     "user_tz": -120
    },
    "id": "bo61asw1ztUz",
    "outputId": "18d41913-a201-4968-a016-597303aff38c"
   },
   "outputs": [],
   "source": [
    "!ls -l"
   ]
  },
  {
   "cell_type": "code",
   "execution_count": null,
   "metadata": {
    "colab": {},
    "colab_type": "code",
    "id": "JKM_B9bgz52Y"
   },
   "outputs": [],
   "source": [
    "# load the saved model\n",
    "myloadednewmodel = load_model('my_model.h5')"
   ]
  },
  {
   "cell_type": "code",
   "execution_count": null,
   "metadata": {
    "colab": {
     "base_uri": "https://localhost:8080/",
     "height": 50
    },
    "colab_type": "code",
    "executionInfo": {
     "elapsed": 39689,
     "status": "ok",
     "timestamp": 1589118089264,
     "user": {
      "displayName": "Ibrahim Sobh",
      "photoUrl": "https://lh3.googleusercontent.com/a-/AOh14GhSC4zQEnGifg47grxl7o87f8dALJa_6j0RvFnrug=s64",
      "userId": "02864663038268916670"
     },
     "user_tz": -120
    },
    "id": "OCHk05cQz55p",
    "outputId": "609b416f-f8a6-43a1-b5d2-e30a4c5b73ec"
   },
   "outputs": [],
   "source": [
    "myloadednewmodel.evaluate(x_test, y_test, verbose=0)\n",
    "print('Test loss:', score[0])\n",
    "print('Test accuracy:', score[1])"
   ]
  }
 ],
 "metadata": {
  "accelerator": "GPU",
  "colab": {
   "authorship_tag": "ABX9TyPXuhw/aiJADg7khauDeC91",
   "collapsed_sections": [],
   "name": "02 ImageClassification.ipynb",
   "provenance": []
  },
  "kernelspec": {
   "display_name": "Python 3",
   "name": "python3"
  }
 },
 "nbformat": 4,
 "nbformat_minor": 0
}
