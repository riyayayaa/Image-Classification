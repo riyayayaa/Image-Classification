{
 "cells": [
  {
   "cell_type": "markdown",
   "metadata": {
    "colab_type": "text",
    "id": "tDKWgzAHKJIr"
   },
   "source": [
    "In **Transfer learning**, we would like to leverage the knowledge learned by a source task to help learning another target task. For example, a well-trained, rich image classification network could be leveraged for another image target related task. Another example, the knowledge learned by a network trained on simulated environment can be transferred to a network for the real environment. Basically, there are two basic scenarios for neural networks transfer learning: Feature Extraction and Fine Tuning. A well known example for transfer learning is to load the already trained large scale classification VGG network that is able to classify images into one of 1000 classes, and use it for another task such as classification of special medical images.\n",
    "\n",
    "**1) Feature Extraction:**\n",
    "\n",
    "In Feature extraction, a pre-trained network on a source task is used as a feature extractor for another target task by adding a simple classifier on top of the pre-trained network. Only the parameters of the added classifier are updated, while the pre-trained network parameters are frozen. This allows the new task to benefit from features learned from the source task. However, these features are more specialized for the source task.\n",
    "\n",
    "**2) Fine Tuning:**\n",
    "\n",
    "Fine tuning allows modification of the pre-trained network parameters to learn the target task. Usually, a new randomly initialized layer is added above the pre-trained network. Parameters of the pre-trained network are updated but using a smaller learning rate to prevent major changes. It is normal to freeze the parameters of the bottom layers, the more generic layers, and only fine-tune some top layers, the more specific layers. Moreover, freezing some layers will reduce the number of trainable parameters and this could help to overcome the overfitting problem, especially when the available data for the target task is not large. Practically, fine tuning outperforms feature extraction as it enables optimizing pre-trained network for the new task.\n",
    "\n",
    "**Transfer Learning Basic Scenarios:**\n",
    "\n",
    "Basically, there are four scenarios for transfer learning depending on two main factors; 1) the size of target task dataset, 2) the similarity between the source and target tasks:\n",
    "\n",
    "- **Case 1**: Target dataset is small and target task is similar to source task: In this case Feature extraction is used, because target dataset is small and training could cause model overfitting.\n",
    "- **Case 2**: Target dataset is small and target task is different from source task: Here, we fine tune bottom, generic layers and remove higher, specific layers. In other words, we use feature extraction from early stages.\n",
    "- **Case 3**: Target dataset is large and target task similar to source task: Here, we have large data, we can just train a network from scratch where the parameters are randomly initialized. However it would be better to make use of the pre-trained model to initialize the parameters and fine tune few layers.\n",
    "- **Case 4**: Target dataset is large and target task is different from source task: Here, we fine tune a large number of layers or even the entire network."
   ]
  },
  {
   "cell_type": "code",
   "execution_count": null,
   "metadata": {
    "colab": {
     "base_uri": "https://localhost:8080/",
     "height": 33
    },
    "colab_type": "code",
    "executionInfo": {
     "elapsed": 2045,
     "status": "ok",
     "timestamp": 1589121371697,
     "user": {
      "displayName": "Ibrahim Sobh",
      "photoUrl": "https://lh3.googleusercontent.com/a-/AOh14GhSC4zQEnGifg47grxl7o87f8dALJa_6j0RvFnrug=s64",
      "userId": "02864663038268916670"
     },
     "user_tz": -120
    },
    "id": "9oVd4r0w-57D",
    "outputId": "0a930ab4-2412-4203-e69d-3b49618c3624"
   },
   "outputs": [],
   "source": [
    "import numpy as np\n",
    "import matplotlib.pyplot as plt\n",
    "%matplotlib inline\n",
    "from __future__ import print_function\n",
    "import keras\n",
    "from keras.preprocessing.image import ImageDataGenerator, load_img\n",
    "from keras.applications import VGG16\n",
    "\n",
    "from keras import models\n",
    "from keras import layers\n",
    "from keras import optimizers\n",
    "\n",
    "image_size = 32"
   ]
  },
  {
   "cell_type": "code",
   "execution_count": null,
   "metadata": {
    "colab": {
     "base_uri": "https://localhost:8080/",
     "height": 98
    },
    "colab_type": "code",
    "executionInfo": {
     "elapsed": 7497,
     "status": "ok",
     "timestamp": 1589121377176,
     "user": {
      "displayName": "Ibrahim Sobh",
      "photoUrl": "https://lh3.googleusercontent.com/a-/AOh14GhSC4zQEnGifg47grxl7o87f8dALJa_6j0RvFnrug=s64",
      "userId": "02864663038268916670"
     },
     "user_tz": -120
    },
    "id": "M45-wx6S-64v",
    "outputId": "50d124d2-8dac-462a-80b2-1f4110c3364b"
   },
   "outputs": [],
   "source": [
    "from keras.datasets import cifar10\n",
    "\n",
    "num_classes = 10\n",
    "# The data, split between train and test sets:\n",
    "(x_train, y_train), (x_test, y_test) = cifar10.load_data()\n",
    "print('x_train shape:', x_train.shape)\n",
    "print(x_train.shape[0], 'train samples')\n",
    "print(x_test.shape[0], 'test samples')\n",
    "\n",
    "# Convert class vectors to binary class matrices.\n",
    "y_train = keras.utils.to_categorical(y_train, num_classes)\n",
    "y_test = keras.utils.to_categorical(y_test, num_classes)"
   ]
  },
  {
   "cell_type": "code",
   "execution_count": null,
   "metadata": {
    "colab": {
     "base_uri": "https://localhost:8080/",
     "height": 358
    },
    "colab_type": "code",
    "executionInfo": {
     "elapsed": 17585,
     "status": "ok",
     "timestamp": 1589121387287,
     "user": {
      "displayName": "Ibrahim Sobh",
      "photoUrl": "https://lh3.googleusercontent.com/a-/AOh14GhSC4zQEnGifg47grxl7o87f8dALJa_6j0RvFnrug=s64",
      "userId": "02864663038268916670"
     },
     "user_tz": -120
    },
    "id": "Sj6xNHIR-69h",
    "outputId": "d9767fc0-4139-42ac-aa0a-f24d569e5052"
   },
   "outputs": [],
   "source": [
    "#Load the VGG model\n",
    "vgg_conv = VGG16(weights='imagenet', include_top=False, input_shape=(image_size, image_size, 3))\n",
    "\n",
    "# Freeze all the layers\n",
    "for layer in vgg_conv.layers[:]:\n",
    "    layer.trainable = False\n",
    "\n",
    "# Check the trainable status of the individual layers\n",
    "for layer in vgg_conv.layers:\n",
    "    print(layer.name, layer.trainable)"
   ]
  },
  {
   "cell_type": "code",
   "execution_count": null,
   "metadata": {
    "colab": {
     "base_uri": "https://localhost:8080/",
     "height": 310
    },
    "colab_type": "code",
    "executionInfo": {
     "elapsed": 17553,
     "status": "ok",
     "timestamp": 1589121387292,
     "user": {
      "displayName": "Ibrahim Sobh",
      "photoUrl": "https://lh3.googleusercontent.com/a-/AOh14GhSC4zQEnGifg47grxl7o87f8dALJa_6j0RvFnrug=s64",
      "userId": "02864663038268916670"
     },
     "user_tz": -120
    },
    "id": "E-c8I_P1-7DB",
    "outputId": "3e438482-8ec0-44c6-955e-52be22e82bc9"
   },
   "outputs": [],
   "source": [
    "# Create the model\n",
    "model = models.Sequential()\n",
    "\n",
    "# Add the vgg convolutional base model\n",
    "model.add(vgg_conv)\n",
    "\n",
    "# Add new layers\n",
    "model.add(layers.Flatten())\n",
    "model.add(layers.Dense(1024, activation='relu'))\n",
    "model.add(layers.Dropout(0.5))\n",
    "model.add(layers.Dense(num_classes, activation='softmax'))\n",
    "\n",
    "# Show a summary of the model. Check the number of trainable parameters\n",
    "model.summary()"
   ]
  },
  {
   "cell_type": "code",
   "execution_count": null,
   "metadata": {
    "colab": {},
    "colab_type": "code",
    "id": "aTY2EX6q-7BB"
   },
   "outputs": [],
   "source": [
    "# Compile the model\n",
    "model.compile(loss='categorical_crossentropy',\n",
    "              optimizer=optimizers.RMSprop(lr=1e-4),\n",
    "              metrics=['acc'])"
   ]
  },
  {
   "cell_type": "code",
   "execution_count": null,
   "metadata": {
    "colab": {
     "base_uri": "https://localhost:8080/",
     "height": 326
    },
    "colab_type": "code",
    "executionInfo": {
     "elapsed": 167773,
     "status": "ok",
     "timestamp": 1589121537570,
     "user": {
      "displayName": "Ibrahim Sobh",
      "photoUrl": "https://lh3.googleusercontent.com/a-/AOh14GhSC4zQEnGifg47grxl7o87f8dALJa_6j0RvFnrug=s64",
      "userId": "02864663038268916670"
     },
     "user_tz": -120
    },
    "id": "lqp5b3_u_akQ",
    "outputId": "bddf427e-72a7-4f13-e495-9d14f23d4617"
   },
   "outputs": [],
   "source": [
    "history = model.fit(x_train, y_train,\n",
    "              batch_size=64,\n",
    "              epochs=9,\n",
    "              validation_data=(x_test, y_test))"
   ]
  },
  {
   "cell_type": "code",
   "execution_count": null,
   "metadata": {
    "colab": {
     "base_uri": "https://localhost:8080/",
     "height": 545
    },
    "colab_type": "code",
    "executionInfo": {
     "elapsed": 168200,
     "status": "ok",
     "timestamp": 1589121538029,
     "user": {
      "displayName": "Ibrahim Sobh",
      "photoUrl": "https://lh3.googleusercontent.com/a-/AOh14GhSC4zQEnGifg47grxl7o87f8dALJa_6j0RvFnrug=s64",
      "userId": "02864663038268916670"
     },
     "user_tz": -120
    },
    "id": "zM-2MI9a_aqx",
    "outputId": "3584528b-c16a-4d69-df38-02c1cf863344"
   },
   "outputs": [],
   "source": [
    "# Plot the accuracy and loss curves\n",
    "acc = history.history['acc']\n",
    "val_acc = history.history['val_acc']\n",
    "loss = history.history['loss']\n",
    "val_loss = history.history['val_loss']\n",
    "\n",
    "epochs = range(len(acc))\n",
    "\n",
    "plt.plot(epochs, acc, 'b', label='Training acc')\n",
    "plt.plot(epochs, val_acc, 'r', label='Validation acc')\n",
    "plt.title('Training and validation accuracy')\n",
    "plt.legend()\n",
    "\n",
    "plt.figure()\n",
    "\n",
    "plt.plot(epochs, loss, 'b', label='Training loss')\n",
    "plt.plot(epochs, val_loss, 'r', label='Validation loss')\n",
    "plt.title('Training and validation loss')\n",
    "plt.legend()\n",
    "\n",
    "plt.show()"
   ]
  },
  {
   "cell_type": "code",
   "execution_count": null,
   "metadata": {
    "colab": {
     "base_uri": "https://localhost:8080/"
    },
    "colab_type": "code",
    "executionInfo": {
     "elapsed": 168175,
     "status": "ok",
     "timestamp": 1589121538031,
     "user": {
      "displayName": "Ibrahim Sobh",
      "photoUrl": "https://lh3.googleusercontent.com/a-/AOh14GhSC4zQEnGifg47grxl7o87f8dALJa_6j0RvFnrug=s64",
      "userId": "02864663038268916670"
     },
     "user_tz": -120
    },
    "id": "3TmhKD5i_aoj",
    "outputId": "1e54ab22-ab42-4c2b-c7c5-d647f54fd6fb"
   },
   "outputs": [],
   "source": [
    "# at this point, the top layers are well trained and we can start fine-tuning\n",
    "# convolutional layers from VGG. We will freeze the bottom N layers\n",
    "# and train the remaining top layers.\n",
    "\n",
    "# let's visualize layer names and layer indices to see how many layers\n",
    "# we should freeze:\n",
    "for i, layer in enumerate(vgg_conv.layers):\n",
    "   print(i, layer.name)"
   ]
  },
  {
   "cell_type": "code",
   "execution_count": null,
   "metadata": {
    "colab": {
     "base_uri": "https://localhost:8080/"
    },
    "colab_type": "code",
    "executionInfo": {
     "elapsed": 168157,
     "status": "ok",
     "timestamp": 1589121538034,
     "user": {
      "displayName": "Ibrahim Sobh",
      "photoUrl": "https://lh3.googleusercontent.com/a-/AOh14GhSC4zQEnGifg47grxl7o87f8dALJa_6j0RvFnrug=s64",
      "userId": "02864663038268916670"
     },
     "user_tz": -120
    },
    "id": "yVRrYsie_ame",
    "outputId": "83813e43-c9c4-4f12-b8a8-718668454478"
   },
   "outputs": [],
   "source": [
    "# we chose to train the top 2 inception blocks, i.e. we will freeze\n",
    "# the first 249 layers and unfreeze the rest:\n",
    "for layer in vgg_conv.layers[:15]:\n",
    "   layer.trainable = False\n",
    "for layer in vgg_conv.layers[15:]:\n",
    "   layer.trainable = True\n",
    "    \n",
    "# Check the trainable status of the individual layers\n",
    "for layer in vgg_conv.layers:\n",
    "    print(layer.name, layer.trainable)"
   ]
  },
  {
   "cell_type": "code",
   "execution_count": null,
   "metadata": {
    "colab": {
     "base_uri": "https://localhost:8080/"
    },
    "colab_type": "code",
    "executionInfo": {
     "elapsed": 168137,
     "status": "ok",
     "timestamp": 1589121538036,
     "user": {
      "displayName": "Ibrahim Sobh",
      "photoUrl": "https://lh3.googleusercontent.com/a-/AOh14GhSC4zQEnGifg47grxl7o87f8dALJa_6j0RvFnrug=s64",
      "userId": "02864663038268916670"
     },
     "user_tz": -120
    },
    "id": "MwV-lclD-67J",
    "outputId": "25e6b44e-c2e7-4754-d7fa-77d59c28afab"
   },
   "outputs": [],
   "source": [
    "model.summary()"
   ]
  },
  {
   "cell_type": "code",
   "execution_count": null,
   "metadata": {
    "colab": {},
    "colab_type": "code",
    "id": "aDpnq1ob_t1V"
   },
   "outputs": [],
   "source": [
    "# we need to recompile the model for these modifications to take effect\n",
    "# we use SGD with a low learning rate\n",
    "from keras.optimizers import SGD\n",
    "model.compile(optimizer=SGD(lr=0.0001, momentum=0.9),\n",
    "              loss='categorical_crossentropy', metrics=['acc'])"
   ]
  },
  {
   "cell_type": "code",
   "execution_count": null,
   "metadata": {
    "colab": {
     "base_uri": "https://localhost:8080/",
     "height": 131
    },
    "colab_type": "code",
    "executionInfo": {
     "elapsed": 1346,
     "status": "ok",
     "timestamp": 1589121688809,
     "user": {
      "displayName": "Ibrahim Sobh",
      "photoUrl": "https://lh3.googleusercontent.com/a-/AOh14GhSC4zQEnGifg47grxl7o87f8dALJa_6j0RvFnrug=s64",
      "userId": "02864663038268916670"
     },
     "user_tz": -120
    },
    "id": "hmKP7bx4_t8c",
    "outputId": "4b2bf80b-ebc3-4d6f-fba1-8df649cf3c43"
   },
   "outputs": [],
   "source": [
    "history = model.fit(x_train, y_train,\n",
    "              batch_size=64,\n",
    "              epochs=3,\n",
    "              validation_data=(x_test, y_test))"
   ]
  },
  {
   "cell_type": "code",
   "execution_count": null,
   "metadata": {
    "colab": {
     "base_uri": "https://localhost:8080/",
     "height": 545
    },
    "colab_type": "code",
    "executionInfo": {
     "elapsed": 45,
     "status": "ok",
     "timestamp": 1589121688823,
     "user": {
      "displayName": "Ibrahim Sobh",
      "photoUrl": "https://lh3.googleusercontent.com/a-/AOh14GhSC4zQEnGifg47grxl7o87f8dALJa_6j0RvFnrug=s64",
      "userId": "02864663038268916670"
     },
     "user_tz": -120
    },
    "id": "5d3zSFPn_t6H",
    "outputId": "3791a720-0fac-4300-dfc9-597d19bc69e6"
   },
   "outputs": [],
   "source": [
    "# Plot the accuracy and loss curves\n",
    "acc = history.history['acc']\n",
    "val_acc = history.history['val_acc']\n",
    "loss = history.history['loss']\n",
    "val_loss = history.history['val_loss']\n",
    "\n",
    "epochs = range(len(acc))\n",
    "\n",
    "plt.plot(epochs, acc, 'b', label='Training acc')\n",
    "plt.plot(epochs, val_acc, 'r', label='Validation acc')\n",
    "plt.title('Training and validation accuracy')\n",
    "plt.legend()\n",
    "\n",
    "plt.figure()\n",
    "\n",
    "plt.plot(epochs, loss, 'b', label='Training loss')\n",
    "plt.plot(epochs, val_loss, 'r', label='Validation loss')\n",
    "plt.title('Training and validation loss')\n",
    "plt.legend()\n",
    "\n",
    "plt.show()"
   ]
  },
  {
   "cell_type": "code",
   "execution_count": null,
   "metadata": {
    "colab": {},
    "colab_type": "code",
    "id": "X7yTemnO_t4P"
   },
   "outputs": [],
   "source": []
  }
 ],
 "metadata": {
  "accelerator": "GPU",
  "colab": {
   "authorship_tag": "ABX9TyPv57KAdYEP8lOBjxWGMNk3",
   "name": "04 TransferLearning.ipynb",
   "provenance": []
  },
  "kernelspec": {
   "display_name": "Python 3",
   "name": "python3"
  }
 },
 "nbformat": 4,
 "nbformat_minor": 0
}
